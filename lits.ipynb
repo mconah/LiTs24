{
 "cells": [
  {
   "cell_type": "code",
   "execution_count": 1,
   "metadata": {},
   "outputs": [],
   "source": [
    "import os \n",
    "import numpy as np\n",
    "import torch\n",
    "import torch.utils.data as Data\n",
    "import torch.nn as nn\n",
    "import torch.nn.functional as func\n",
    "from torch.autograd import Function\n",
    "from glob import glob\n",
    "import pydicom\n",
    "import cv2\n",
    "import time\n",
    "from skimage.transform import resize\n",
    "import matplotlib.pyplot as plt\n"
   ]
  },
  {
   "cell_type": "code",
   "execution_count": 5,
   "metadata": {},
   "outputs": [],
   "source": [
    "class hyperParam:\n",
    "    def __init__(self):\n",
    "        self.dataset_url = \"/home/buchi/Desktop/buchi/data/dicom/dicom/\"\n",
    "        self.datasetMode = 1 #1 = InPhase, 2 = OutPhase, 3 = T2, 4 = In+OutPhase (Not Implimented yet)\n",
    "        #self.interpFactor = None\n",
    "        self.interpFactor = (0.5,0.5,0.5)\n",
    "        self.runName = '3DWNetv2'\n",
    "        self.combineLoss = False\n",
    "        #network configure\n",
    "        #self.ModelDownscale = True\n",
    "        self.ModelDownscale = False\n",
    "        self.InputCh=1\n",
    "        self.ScaleRatio = 2\n",
    "        self.ConvSize = 3\n",
    "        self.pad = (self.ConvSize - 1) // 2 \n",
    "        self.MaxLv = 5\n",
    "        self.ChNum = [self.InputCh,64]\n",
    "        for i in range(self.MaxLv-1):\n",
    "            self.ChNum.append(self.ChNum[-1]*2)\n",
    "        #data configure\n",
    "        self.BatchSize = 1\n",
    "        self.Shuffle = False\n",
    "        self.LoadThread = 0\n",
    "        self.inputsize = [224,224]\n",
    "        #partition configure\n",
    "        self.K = 10\n",
    "        #training configure\n",
    "        self.init_lr = 0.001\n",
    "        self.lr_decay = 0.1\n",
    "        self.lr_decay_iter = 5\n",
    "        self.max_iter = 100\n",
    "        self.checkpoint_frequency = 10\n",
    "        self.cuda_dev = 0 \n",
    "        self.cuda_dev_list = \"4,5\"\n",
    "        self.check_iter = 1000\n",
    "        self.useSSIMLoss = True\n",
    "        #self.model_tested = \"checkpoints/checkpoint_8_8_2_44_epoch_50\"\n",
    "        #self.model_tested = \"/Users/dhanunjayamitta/Downloads/pretrained/checkpoint_3DWNetv2_SepLoss_ds2_ep100_epoch_100\"\n",
    "        self.model_tested = \"checkpoints/checkpoint_9_16_17_8_epoch_990\"\n",
    "        #Ncuts Loss configure\n",
    "        self.radius = 4\n",
    "        self.sigmaI = 10\n",
    "        self.sigmaX = 4\n",
    "\n",
    "    def initiate(self):\n",
    "        #pre-calculations\n",
    "        if self.combineLoss:\n",
    "            self.runName += '_CombLoss'\n",
    "        else:\n",
    "            self.runName += '_SepLoss'\n",
    "        self.runName += '_ds'+str(self.datasetMode)+'_ep'+str(self.max_iter)\n",
    "        "
   ]
  },
  {
   "cell_type": "code",
   "execution_count": 6,
   "metadata": {},
   "outputs": [],
   "source": [
    "params = hyperParam()"
   ]
  },
  {
   "cell_type": "code",
   "execution_count": 9,
   "metadata": {},
   "outputs": [],
   "source": [
    "\"\"\"\n",
    "DATA STRUCTURE\n",
    "\n",
    "dicom -> overall dataset folder\n",
    "    scans -> training images \n",
    "        scans-001\n",
    "        scans-002\n",
    "        ...\n",
    "        scans-050\n",
    "        scans-051\n",
    "    segmentations -> testing images\n",
    "        segmentation-001\n",
    "        segmentation-002\n",
    "        ...\n",
    "        segmentation-050\n",
    "        segmentation-051\n",
    "\n",
    "\"\"\""
   ]
  },
  {
   "cell_type": "code",
   "execution_count": null,
   "metadata": {},
   "outputs": [],
   "source": [
    "import os\n",
    "def walk_through_dir(dir_path):\n",
    "  \"\"\"\n",
    "  Walks through dir_path returning its contents.\n",
    "  Args:\n",
    "    dir_path (str or pathlib.Path): target directory\n",
    "  \n",
    "  Returns:\n",
    "    A print out of:\n",
    "      number of subdiretories in dir_path\n",
    "      number of images (files) in each subdirectory\n",
    "      name of each subdirectory\n",
    "  \"\"\"\n",
    "  for dirpath, dirnames, filenames in os.walk(dir_path):\n",
    "    print(f\"There are {len(dirnames)} directories and {len(filenames)} images in '{dirpath}'.\")"
   ]
  }
 ],
 "metadata": {
  "kernelspec": {
   "display_name": "Python 3",
   "language": "python",
   "name": "python3"
  },
  "language_info": {
   "codemirror_mode": {
    "name": "ipython",
    "version": 3
   },
   "file_extension": ".py",
   "mimetype": "text/x-python",
   "name": "python",
   "nbconvert_exporter": "python",
   "pygments_lexer": "ipython3",
   "version": "3.10.12"
  }
 },
 "nbformat": 4,
 "nbformat_minor": 2
}
