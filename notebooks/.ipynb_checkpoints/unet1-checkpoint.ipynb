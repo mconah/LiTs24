{
 "cells": [
  {
   "cell_type": "code",
   "execution_count": 1,
   "id": "a62bca50-39ae-4db9-aa59-a02ddfa2d218",
   "metadata": {},
   "outputs": [
    {
     "name": "stderr",
     "output_type": "stream",
     "text": [
      "C:\\Users\\HP\\AppData\\Local\\Temp\\ipykernel_10584\\2389797802.py:11: DeprecationWarning: \n",
      "Pyarrow will become a required dependency of pandas in the next major release of pandas (pandas 3.0),\n",
      "(to allow more performant data types, such as the Arrow string type, and better interoperability with other libraries)\n",
      "but was not found to be installed on your system.\n",
      "If this would cause problems for you,\n",
      "please provide us feedback at https://github.com/pandas-dev/pandas/issues/54466\n",
      "        \n",
      "  import pandas as pd\n"
     ]
    }
   ],
   "source": [
    "import torch\n",
    "import torchvision\n",
    "from torch import nn\n",
    "import matplotlib.pyplot as plt\n",
    "from torchvision import transforms, datasets\n",
    "from torchvision.datasets import VisionDataset\n",
    "from torch.utils.data import DataLoader\n",
    "from torchvision.transforms import ToTensor\n",
    "from torchinfo import summary\n",
    "\n",
    "import pandas as pd\n",
    "import numpy as np\n",
    "\n",
    "import os\n",
    "import glob\n",
    "import math\n",
    "# import imageio\n",
    "import nibabel as nib\n",
    "from tqdm.notebook import tqdm\n",
    "from PIL import Image\n",
    "from random import choice\n"
   ]
  },
  {
   "cell_type": "code",
   "execution_count": 2,
   "id": "a853d22d-2c04-4a60-a2af-cb131ba39055",
   "metadata": {},
   "outputs": [
    {
     "data": {
      "text/plain": [
       "'cpu'"
      ]
     },
     "execution_count": 2,
     "metadata": {},
     "output_type": "execute_result"
    }
   ],
   "source": [
    "device = \"cuda\" if torch.cuda.is_available() else \"cpu\"\n",
    "torch.set_default_device(device)\n",
    "\n",
    "device"
   ]
  },
  {
   "cell_type": "code",
   "execution_count": 70,
   "id": "225e1162-534f-4daf-99ae-440a8a6af065",
   "metadata": {},
   "outputs": [],
   "source": [
    "scan_dir = \"C:/Users/HP/Desktop/liver_seg/data/segmentations\"\n",
    "walk_list = []\n",
    "\n",
    "for item in os.walk(scan_dir):\n",
    "    walk_list.append(item)\n",
    "\n",
    "scan_list = []\n",
    "for i in range(131):\n",
    "    scan_list.append(scan_dir + \"/\" +str(walk_list[0][2][i]))\n",
    "\n",
    "loaded_data = []\n",
    "for i in scan_list:\n",
    "    \"\"\"\n",
    "    Considering precision and that uint16 is not allowed dtype for torch.Tensor, \n",
    "    Hence, I converted the nibabel image which was of datatype uint16 to int32\n",
    "    before converting to tensor\n",
    "    \"\"\"\n",
    "    uint16 = nib.load(i).dataobj[:,:,59]\n",
    "    int32 = uint16.astype(np.int32)\n",
    "    data = torch.Tensor(int32)\n",
    "    loaded_data.append(data)\n",
    "    \n",
    "\n",
    "train_set, test_set = torch.utils.data.random_split(loaded_data, [0.8, 0.2])"
   ]
  },
  {
   "cell_type": "code",
   "execution_count": 71,
   "id": "c269588e-0ac0-4550-81ff-fd32ee635f2f",
   "metadata": {},
   "outputs": [
    {
     "data": {
      "text/plain": [
       "(105,\n",
       " 26,\n",
       " torch.Size([512, 512]),\n",
       " tensor([[0., 0., 0.,  ..., 0., 0., 0.],\n",
       "         [0., 0., 0.,  ..., 0., 0., 0.],\n",
       "         [0., 0., 0.,  ..., 0., 0., 0.],\n",
       "         ...,\n",
       "         [0., 0., 0.,  ..., 0., 0., 0.],\n",
       "         [0., 0., 0.,  ..., 0., 0., 0.],\n",
       "         [0., 0., 0.,  ..., 0., 0., 0.]]))"
      ]
     },
     "execution_count": 71,
     "metadata": {},
     "output_type": "execute_result"
    }
   ],
   "source": [
    "len(train_set), len(test_set), train_set[1].shape, test_set[1]"
   ]
  },
  {
   "cell_type": "code",
   "execution_count": 80,
   "id": "7578d8c8-f379-4e5a-aea1-5205081ee859",
   "metadata": {},
   "outputs": [
    {
     "data": {
      "image/png": "[encoded data removed]",
      "text/plain": [
       "<Figure size 640x480 with 2 Axes>"
      ]
     },
     "metadata": {},
     "output_type": "display_data"
    },
    {
     "data": {
      "image/png": "[encoded data removed]",
      "text/plain": [
       "<Figure size 300x300 with 3 Axes>"
      ]
     },
     "metadata": {},
     "output_type": "display_data"
    },
    {
     "data": {
      "image/png": "[encoded data removed]",
      "text/plain": [
       "<Figure size 300x300 with 3 Axes>"
      ]
     },
     "metadata": {},
     "output_type": "display_data"
    },
    {
     "data": {
      "image/png": "[encoded data removed]",
      "text/plain": [
       "<Figure size 300x300 with 1 Axes>"
      ]
     },
     "metadata": {},
     "output_type": "display_data"
    }
   ],
   "source": [
    "plot_train = choice(train_set)\n",
    "plot_test = choice(test_set)\n",
    "\n",
    "for i in range(1, 4):\n",
    "    plot_train = choice(train_set)\n",
    "    plot_test = choice(test_set)\n",
    "\n",
    "\n",
    "    plt.subplot(3,10,i)\n",
    "    \n",
    "    plt.axis(False)\n",
    "    plt.imshow(plot_train)\n",
    "    plt.figure(figsize= (3, 3))\n",
    "    plt.subplot(3,10,(i + 10))\n",
    "    plt.axis(False)\n",
    "    plt.imshow(plot_test)"
   ]
  },
  {
   "cell_type": "code",
   "execution_count": 34,
   "id": "ee30b791-0a14-4f79-bac9-2db519541f90",
   "metadata": {},
   "outputs": [
    {
     "name": "stdout",
     "output_type": "stream",
     "text": [
      "Manually created transforms: Compose(\n",
      "    Resize(size=(224, 224), interpolation=bilinear, max_size=None, antialias=True)\n",
      "    ToTensor()\n",
      ")\n"
     ]
    }
   ],
   "source": [
    "IMG_SIZE = 224\n",
    "# Here only basic transforms are used, other models may be transformed better to track performance improvement\n",
    "basic_transforms = transforms.Compose([\n",
    "    transforms.Resize((IMG_SIZE, IMG_SIZE)),\n",
    "    transforms.ToTensor()\n",
    "])\n",
    "\n",
    "print(f\"Manually created transforms: {basic_transforms}\")"
   ]
  },
  {
   "cell_type": "code",
   "execution_count": 100,
   "id": "957f25c1-90bf-447e-a589-722ba6c9f670",
   "metadata": {},
   "outputs": [],
   "source": [
    "class ctScanData(VisionDataset):\n",
    "\n",
    "    def __getitem__(self, index):\n",
    "        return self.root[index]\n",
    "\n",
    "    def __len__(self):\n",
    "        return len(self.root)"
   ]
  },
  {
   "cell_type": "raw",
   "id": "bbf1828b-35d9-4bc3-89e2-d5c24ee40920",
   "metadata": {},
   "source": [
    "train_data  = ctScanData(train_set, transforms = basic_transforms)\n",
    "test_data = ctScanData(test_set, transform = basic_transforms)\n",
    "len(train_data), len(test_data), train_data[1]"
   ]
  },
  {
   "cell_type": "code",
   "execution_count": 82,
   "id": "f42e791c-8332-4165-9d05-5cbd285b4e66",
   "metadata": {},
   "outputs": [],
   "source": [
    "BATCH_SIZE = 4\n",
    "NUM_WORKERS = (os.cpu_count() - 1)\n",
    "\n",
    "train_dataloader = DataLoader(\n",
    "    train_set,\n",
    "    batch_size = BATCH_SIZE,\n",
    "    shuffle= False,\n",
    "    num_workers= NUM_WORKERS,\n",
    "    pin_memory= True,\n",
    ")\n",
    "test_dataloader = DataLoader(\n",
    "    test_set,\n",
    "    batch_size= BATCH_SIZE,\n",
    "    shuffle= False,\n",
    "    num_workers= NUM_WORKERS,\n",
    "    pin_memory = True,\n",
    ")\n"
   ]
  },
  {
   "cell_type": "code",
   "execution_count": 85,
   "id": "c76fc4bc-72b7-4554-961a-e456f1214ae5",
   "metadata": {},
   "outputs": [
    {
     "data": {
      "text/plain": [
       "7"
      ]
     },
     "execution_count": 85,
     "metadata": {},
     "output_type": "execute_result"
    }
   ],
   "source": [
    "# image_batch = next(iter(train_dataloader))\n"
   ]
  },
  {
   "cell_type": "code",
   "execution_count": null,
   "id": "2a3abb5b-5b8a-4c76-9da8-8be6376bbcf1",
   "metadata": {},
   "outputs": [],
   "source": []
  },
  {
   "cell_type": "code",
   "execution_count": null,
   "id": "1efb2701-f315-469a-9545-ce63975d40c9",
   "metadata": {},
   "outputs": [],
   "source": []
  },
  {
   "cell_type": "code",
   "execution_count": null,
   "id": "963a1a89-1d43-4ccb-b25e-9d088486ea33",
   "metadata": {},
   "outputs": [],
   "source": []
  },
  {
   "cell_type": "code",
   "execution_count": null,
   "id": "07c08836-aa76-41d9-bd96-a2c5bc635a52",
   "metadata": {},
   "outputs": [],
   "source": []
  },
  {
   "cell_type": "code",
   "execution_count": null,
   "id": "783c5ea0-d05b-4851-91fc-c722ef77b4a0",
   "metadata": {},
   "outputs": [],
   "source": []
  },
  {
   "cell_type": "code",
   "execution_count": null,
   "id": "36ac50ee-8094-497a-88d0-ceec5f069bc8",
   "metadata": {},
   "outputs": [],
   "source": []
  },
  {
   "cell_type": "markdown",
   "id": "d4af8813-0e24-47d3-bf2b-a9433b1ae102",
   "metadata": {},
   "source": [
    "# Prepare the data,\n",
    "### Data Preparation\n",
    "1. Housefiel windowing\n",
    "2. Histogram activation\n",
    "3. Data Augumentation\n",
    "4. Normalization"
   ]
  },
  {
   "cell_type": "markdown",
   "id": "19b09006-072b-4663-9da9-334c76cbc8a7",
   "metadata": {},
   "source": [
    "### Building of model"
   ]
  },
  {
   "cell_type": "code",
   "execution_count": 18,
   "id": "12df6769-8840-43f9-8964-802ae4538310",
   "metadata": {},
   "outputs": [],
   "source": [
    "class listUnet(nn.Module):\n",
    "    def __init__(self, n_class):\n",
    "        super().__init__()\n",
    "\n",
    "        # Encoder\n",
    "        # input: 572X572X3\n",
    "        self.encoder11 = nn.Conv2d(3, 64, kernel_size= 3, padding= 1)\n",
    "        self.encoder12 = nn.Conv2d(64, 64, kernel_size= 3, padding= 1)\n",
    "        self.pool1 = nn.MaxPool2d(kernel_size= 2, stride= 2)\n",
    "\n",
    "        self.encoder21 = nn.Conv2d(64, 128, kernel_size= 3, padding= 1)\n",
    "        self.encoder22 = nn.Conv2d(128, 128, kernel_size= 2, padding= 1)\n",
    "        self.pool2 = nn.MaxPool2d(kernel_size= 2, stride= 2)\n",
    "\n",
    "        self.encoder31 = nn.Conv2d(128, 256, kernel_size= 3, padding= 1)\n",
    "        self.encoder32 = nn.Conv2d(256, 256, kernel_size= 3, padding= 1)\n",
    "        self.pool3 = nn.MaxPool2d(kernel_size= 3, stride= 2)\n",
    "\n",
    "        self.encoder41 = nn.Conv2d(256, 512, kernel_size= 3, padding= 1)\n",
    "        self.encoder42 = nn.Conv2d(512, 512, kernel_size= 3, padding= 1)\n",
    "        self.pool4 = nn.MaxPool2d(dernel_size= 2, stride= 2)\n",
    "\n",
    "        self.encoder51 = nn.Conv2d(512, 1024, kernel_size= 3, padding= 1)\n",
    "        self.encoder52 = nn.Conv2d(1024, kernel_size= 3, padding= 1)\n",
    "\n",
    "        # Decoder\n",
    "        self.upconv1 = nn.ConvTranspose2d(1024, 512, kernel_size= 2, stride= 2)\n",
    "        self.decoder11 = nn.Conv2d(1024, 512, kernel_size= 3, padding= 1)\n",
    "        self.decoder12 = nn.Conv2d(512, 512, kernel_size= 3, padding= 1)\n",
    "\n",
    "        self.upconv2 = nn.ConvTranspose2d(512, 256, kernel_size= 2, stride= 2)\n",
    "        self.decoder21 = nn.Conv2d(512, 256, kernel_size= 3, padding= 1)\n",
    "        self.decoder22 = nn.Conv2d(256, 256, kernel_size= 3, padding= 1)\n",
    "\n",
    "        self.upconv3 = nn.ConvTranspose2d(256, 128, kernel_size= 2, stride= 2)\n",
    "        self.decoder31 = nn.Conv2d(256, 128, kernel_size= 2, padding= 1)\n",
    "        self.decode32 = nn.Conv2d(128, 128, kernel_size= 2, padding= 1)\n",
    "\n",
    "        self.upconv4 = nn.ConvTranspose2d(128, 64, kernel_size= 2, stride= 2)\n",
    "        self.decoder41 = nn.Conv2d(128, 64, kernel_size= 2, padding= 1)\n",
    "        self.decoder42 = nn.Conv2d(64, 64, kernel_size= 2, padding= 1)\n",
    "\n",
    "        # Output layer\n",
    "        self.outconv = nn.Conv2d(64, n_class, kernel_size= 1)\n",
    "\n",
    "    def forward(self, x):\n",
    "        # Encoder\n",
    "        x_encoder11 = nn.ReLU(self.encoder11(x))\n",
    "        x_encoder12 = nn.ReLU(self.encoder12(x_encoder11))\n",
    "        x_pool1 = self.pool1(xencoder12)\n",
    "\n",
    "        x_encoder21 = nn.ReLU(self.encoder_21(x_pool1))\n",
    "        x_encoder22 = nn.ReLU(self.encoder_22(x_encoder21))\n",
    "        x_pool2 = self.pool2(x_encoder22)\n",
    "\n",
    "        x_encoder31 = nn.ReLu(self.encoder31(x_pool2))\n",
    "        x_encoder32 = nn.ReLU(self.encoder32(x_encoder31))\n",
    "        x_pool3 = self.pool3(x_encoder32)\n",
    "\n",
    "        x_encoder41 = nn.ReLU(self.encoder41(x_pool3))\n",
    "        x_encoder42 = nn.ReLU(self.encoder42(x_encoder41))\n",
    "        x_pool4 = self.pool4(x_encoder42)\n",
    "\n",
    "        x_encoder51 = nn.ReLU(self.encoder51(x_pool4))\n",
    "        x_encoder52 = nn.ReLU(self.encoder52(x_encoder51))\n",
    "\n",
    "        # Decoder\n",
    "\n",
    "        xu1 = self.upconv(x_encoder52)\n",
    "        xu11 = torch.cat([xu1, x_encoder42], dim= 1)\n",
    "        x_decoder11 = nn.ReLU(self.decoder11(xu11))\n",
    "        x_decoder12 = nn.ReLU(self.decoder12(x_decoder11))\n",
    "\n",
    "        xu2 = self.upconv2(x_decoder12)\n",
    "        xu22 = torch.cat([xu2, x_encoder32], dim= 1)\n",
    "        x_decoder21 = nn.ReLU(self.decoder21(xu22))\n",
    "        x_decoder22 = nn.ReLU(self.decoder22(x_decoder21))\n",
    "\n",
    "        xu3 = self.upconv2(x_decoder22)\n",
    "        xu33 = torch.cat([xu3, x_encoder22], dim= 1)\n",
    "        x_decoder31 = nn.ReLU(self.decoder31(xu33))\n",
    "        x_decoder32 = nn.ReLU(self.decoder32(x_decoder31))\n",
    "\n",
    "        xu4 = self.upconv4(x_decoder32)\n",
    "        xu44 = torch.cat([xu4, x_encoder12], dim = 1)\n",
    "        x_decoder41 = nn.ReLU(self.decoder41(xu44))\n",
    "        x_decoder42 = nn.ReLU(self.decoder42(x_decoder41))\n",
    "\n",
    "        # Output layer\n",
    "        out = self.outconv(x_decoder42)\n",
    "\n",
    "        return out"
   ]
  },
  {
   "cell_type": "code",
   "execution_count": 31,
   "id": "d2c6f102-38b4-4e26-b7de-ddeee24eb9dc",
   "metadata": {},
   "outputs": [],
   "source": [
    "\n"
   ]
  },
  {
   "cell_type": "code",
   "execution_count": null,
   "id": "ea2d4be8-ede2-4374-8656-cad1b8783d26",
   "metadata": {},
   "outputs": [],
   "source": []
  },
  {
   "cell_type": "code",
   "execution_count": null,
   "id": "b1dff2d7-bd7c-42ce-bc73-5ff61fd9dadd",
   "metadata": {},
   "outputs": [],
   "source": []
  }
 ],
 "metadata": {
  "kernelspec": {
   "display_name": "Python 3 (ipykernel)",
   "language": "python",
   "name": "python3"
  },
  "language_info": {
   "codemirror_mode": {
    "name": "ipython",
    "version": 3
   },
   "file_extension": ".py",
   "mimetype": "text/x-python",
   "name": "python",
   "nbconvert_exporter": "python",
   "pygments_lexer": "ipython3",
   "version": "3.10.11"
  }
 },
 "nbformat": 4,
 "nbformat_minor": 5
}
