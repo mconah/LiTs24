{
 "cells": [
  {
   "cell_type": "code",
   "execution_count": 5,
   "metadata": {},
   "outputs": [],
   "source": [
    "import torch \n",
    "import torchvision\n",
    "from torch import nn\n",
    "from torch.nn.functional import relu\n",
    "from torchvision import transforms, datasets\n",
    "from torchvision.datasets import VisionDataset\n",
    "from torch.utils.data import DataLoader\n",
    "from torchinfo import summary\n",
    "\n",
    "import nibabel as nib\n",
    "\n",
    "from matplotlib import pyplot as plt\n",
    "import pandas as pd\n",
    "import numpy as np\n",
    "from tqdm.auto import tqdm\n",
    "import os\n",
    "from random import choice"
   ]
  },
  {
   "cell_type": "code",
   "execution_count": 6,
   "metadata": {},
   "outputs": [
    {
     "data": {
      "text/plain": [
       "('cpu', False)"
      ]
     },
     "execution_count": 6,
     "metadata": {},
     "output_type": "execute_result"
    }
   ],
   "source": [
    "DEVICE = \"cuda\" if torch.cuda.is_available() else \"cpu\"\n",
    "torch.set_default_device(DEVICE)\n",
    "\n",
    "PIN_MEMORY = True if DEVICE == \"cuda\" else False\n",
    "DEVICE, PIN_MEMORY"
   ]
  },
  {
   "cell_type": "code",
   "execution_count": 7,
   "metadata": {},
   "outputs": [
    {
     "data": {
      "text/plain": [
       "5"
      ]
     },
     "execution_count": 7,
     "metadata": {},
     "output_type": "execute_result"
    }
   ],
   "source": [
    "# Here we set all the hyper parameters\n",
    "\n",
    "NUM_CHANNELS = 1\n",
    "NUM_CLASSES = 1\n",
    "NUM_LEVELS = 3\n",
    "\n",
    "LR = 0.0001\n",
    "NUM_EPOCHS = 10\n",
    "BATCH_SIZE = 4\n",
    "NUM_WORKERS = 0\n",
    "\n",
    "INPUT_IMAGE_HEIGHT = 572\n",
    "INPUT_IMAGE_WIDTH = 572\n",
    "\n",
    "THRESHOLD = 0.5\n",
    "\n",
    "BASE_OUTPUT = \"output\"\n",
    "\n",
    "mask_dir= \"C:/Users/HP/Desktop/2024 projects/LiTS/data/segmentations\"\n",
    "\n",
    "root_dir = \"C:/Users/HP/Desktop/2024 projects/LiTS/data\"\n",
    "scan_dir1 = \"C:/Users/HP/Desktop/2024 projects/LiTS/data/volume_pt1\"\n",
    "scan_dir2 = \"C:/Users/HP/Desktop/2024 projects/LiTS/data/volume_pt2\"\n",
    "scan_dir3 = \"C:/Users/HP/Desktop/2024 projects/LiTS/data/volume_pt3\"\n",
    "scan_dir4 = \"C:/Users/HP/Desktop/2024 projects/LiTS/data/volume_pt4\"\n",
    "scan_dir5 = \"C:/Users/HP/Desktop/2024 projects/LiTS/data/volume_pt5\"\n",
    "scan_dirs = [scan_dir1, scan_dir2, scan_dir3, scan_dir4, scan_dir5]\n",
    "len(scan_dirs)"
   ]
  },
  {
   "cell_type": "code",
   "execution_count": null,
   "metadata": {},
   "outputs": [],
   "source": []
  }
 ],
 "metadata": {
  "kernelspec": {
   "display_name": "Python 3",
   "language": "python",
   "name": "python3"
  },
  "language_info": {
   "codemirror_mode": {
    "name": "ipython",
    "version": 3
   },
   "file_extension": ".py",
   "mimetype": "text/x-python",
   "name": "python",
   "nbconvert_exporter": "python",
   "pygments_lexer": "ipython3",
   "version": "3.10.11"
  }
 },
 "nbformat": 4,
 "nbformat_minor": 2
}
