{
 "cells": [
  {
   "cell_type": "code",
   "execution_count": 118,
   "id": "cf096045-4133-43d3-9771-96137d0fd4b6",
   "metadata": {},
   "outputs": [],
   "source": [
    "input_dir = '/Users/augustineigboke/Documents/Image-Segmentation/6dicomscans'\n",
    "output_dir = '/Users/augustineigboke/Documents/Image-Segmentation/LiTs24/dicom_groups'\n",
    "nifti_output_dir = '/Users/augustineigboke/Documents/Image-Segmentation/LiTs24/dicom_groups'"
   ]
  },
  {
   "cell_type": "code",
   "execution_count": 149,
   "id": "c02bdc85-14fb-4192-8335-f67b53c9190b",
   "metadata": {},
   "outputs": [],
   "source": [
    "from glob import glob\n",
    "import shutil\n",
    "import os\n",
    "import sys\n",
    "import dicom2nifti"
   ]
  },
  {
   "cell_type": "code",
   "execution_count": 156,
   "id": "7686cf3c-e6c8-430b-9f90-4810a6a68ea6",
   "metadata": {},
   "outputs": [],
   "source": [
    "class ImageSementationUtils:\n",
    "    def __init__(self, input_dir, output_dir):\n",
    "        self.input_dir = input_dir\n",
    "        self.output_dir = output_dir\n",
    "        self.volumes = glob(self.input_dir + '/*')\n",
    "        self.group_size = self.get_group_size()\n",
    "\n",
    "    def get_group_size(self):\n",
    "        min = sys.maxsize\n",
    "        for volume in glob(self.input_dir + '/*'):\n",
    "            l = len(glob(volume + '/*'))\n",
    "            min = l if l != 0 and l < min else min\n",
    "        return min\n",
    "\n",
    "    def prepare_dicom(self):\n",
    "        group_folders = self.create_output_dirs(self.group_size)\n",
    "        if len(group_folders) > 0:\n",
    "            self.move_volumes_to_output_folders(group_folders)\n",
    "        else:\n",
    "            print('Folder(s) are empty')\n",
    "        \n",
    "\n",
    "    def create_output_dirs(self, group_size):\n",
    "        group_folders = []\n",
    "        if group_size <= 0:\n",
    "            return group_folders\n",
    "        \n",
    "        for vol in self.volumes:\n",
    "            vol_name = os.path.basename(os.path.normpath(vol))\n",
    "            num_groups = int(len(glob(vol + '/*')) / group_size)\n",
    "            for i in range(num_groups):\n",
    "                group_folder = os.path.join(self.output_dir, vol_name + '_' + str(i))\n",
    "                if os.path.exists(group_folder):\n",
    "                    shutil.rmtree(group_folder)\n",
    "                os.mkdir(group_folder)\n",
    "                group_folders.append(group_folder)\n",
    "        return group_folders\n",
    "\n",
    "    def move_volumes_to_output_folders(self, group_folders):\n",
    "        current_folder = 0\n",
    "        for vol in self.volumes:\n",
    "            num_folder_groups = int(len(glob(vol + '/*')) / self.group_size)\n",
    "            files_in_folder = sorted(glob(vol + '/*'))\n",
    "            \n",
    "            start = 0\n",
    "            for folder in range(num_folder_groups):\n",
    "                self.move_files_to_output_dir(files_in_folder[start : start + self.group_size], group_folders[current_folder])\n",
    "                start = start + self.group_size\n",
    "                current_folder = current_folder + 1\n",
    "    \n",
    "    def move_files_to_output_dir(self, files, group_folder):\n",
    "        group_size = self.get_group_size()\n",
    "        for i, file in enumerate(files):\n",
    "            if i > self.group_size:\n",
    "                break\n",
    "            shutil.move(file, group_folder)\n",
    "\n",
    "    def dicom2nifti(self, nitfi_ouput_dir):\n",
    "        reader = sitk.ImageSeriesReader()\n",
    "        for dicom_group in glob(self.output_dir + '/*'):\n",
    "            dicom_group_name = os.path.basename(os.path.normpath(dicom_group))\n",
    "            dicom2nifti.dicom_series_to_nifti(dicom_group, os.path.join(nitfi_ouput_dir, dicom_group_name + '.nii.gz'))\n",
    "        "
   ]
  },
  {
   "cell_type": "code",
   "execution_count": 151,
   "id": "d3c0863e-ffc7-4cfb-9cbd-f34c7b059646",
   "metadata": {},
   "outputs": [
    {
     "name": "stdout",
     "output_type": "stream",
     "text": [
      "75\n"
     ]
    }
   ],
   "source": [
    "img_seg_utils = ImageSementationUtils(input_dir, output_dir)\n",
    "group_size = img_seg_utils.get_group_size()\n",
    "print(group_size)\n",
    "img_seg_utils.prepare_dicom()\n"
   ]
  },
  {
   "cell_type": "code",
   "execution_count": 152,
   "id": "8ce2f100-d7c8-4b69-ad99-3794374c6c3c",
   "metadata": {},
   "outputs": [],
   "source": [
    "img_seg_utils.dicom2nifti(nifti_output_dir)"
   ]
  }
 ],
 "metadata": {
  "kernelspec": {
   "display_name": "Python 3 (ipykernel)",
   "language": "python",
   "name": "python3"
  },
  "language_info": {
   "codemirror_mode": {
    "name": "ipython",
    "version": 3
   },
   "file_extension": ".py",
   "mimetype": "text/x-python",
   "name": "python",
   "nbconvert_exporter": "python",
   "pygments_lexer": "ipython3",
   "version": "3.10.14"
  }
 },
 "nbformat": 4,
 "nbformat_minor": 5
}
