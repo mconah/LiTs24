{
 "cells": [
  {
   "cell_type": "code",
   "execution_count": 185,
   "id": "cf096045-4133-43d3-9771-96137d0fd4b6",
   "metadata": {},
   "outputs": [],
   "source": [
    "input_dir = '/Users/augustineigboke/Documents/Image-Segmentation/6dicomscans'\n",
    "output_dir = '/Users/augustineigboke/Documents/Image-Segmentation/LiTs24/dicom_groups'\n",
    "nifti_output_dir = '/Users/augustineigboke/Documents/Image-Segmentation/LiTs24/nifti_files'"
   ]
  },
  {
   "cell_type": "code",
   "execution_count": 190,
   "id": "c02bdc85-14fb-4192-8335-f67b53c9190b",
   "metadata": {},
   "outputs": [],
   "source": [
    "from glob import glob\n",
    "import shutil\n",
    "import os\n",
    "import sys\n",
    "import dicom2nifti"
   ]
  },
  {
   "cell_type": "code",
   "execution_count": 186,
   "id": "7686cf3c-e6c8-430b-9f90-4810a6a68ea6",
   "metadata": {},
   "outputs": [],
   "source": [
    "class ImageSementationUtils:\n",
    "    def __init__(self, input_dir, output_dir):\n",
    "        self.__input_dir = input_dir\n",
    "        self.__output_dir = output_dir\n",
    "        self.__dataset_folders = glob(self.__input_dir + '/*')\n",
    "        self.__group_size = self.get_group_size()\n",
    "\n",
    "    # Sets the group size to a non-zero folder with the least files\n",
    "    def get_group_size(self):\n",
    "        min = sys.maxsize\n",
    "        for folderume in glob(self.__input_dir + '/*'):\n",
    "            l = len(glob(folderume + '/*'))\n",
    "            min = l if l != 0 and l < min else min\n",
    "        return min\n",
    "\n",
    "    def prepare_dicom(self):\n",
    "        group_folders = self.create_output_dirs(self.__group_size)\n",
    "        if len(group_folders) > 0:\n",
    "            self.move_folderumes_to_output_folders(group_folders)\n",
    "        else:\n",
    "            print('Empty Folder(s)')\n",
    "        \n",
    "\n",
    "    # Partitions the original data into groups of equal sizes\n",
    "    def create_output_dirs(self, group_size):\n",
    "        group_folders = []\n",
    "        if group_size <= 0:\n",
    "            return group_folders\n",
    "        #Loop through all the folders in the original dataset\n",
    "        for folder in self.__dataset_folders:\n",
    "            folder_name = os.path.basename(os.path.normpath(folder))\n",
    "            # Get the number of groups that can be formed from each folder\n",
    "            num_groups = int(len(glob(folder + '/*')) / group_size)\n",
    "            # Create folders according to the number of groups calculated above\n",
    "            for i in range(num_groups):\n",
    "                group_folder = os.path.join(self.__output_dir, folder_name + '_' + str(i))\n",
    "                # Remove folder if already existing\n",
    "                if os.path.exists(group_folder):\n",
    "                    shutil.rmtree(group_folder)\n",
    "                os.mkdir(group_folder)\n",
    "                group_folders.append(group_folder)\n",
    "        return group_folders\n",
    "\n",
    "    # Moves files in defined sizes from the original folderume files or patients to the created groups\n",
    "    def move_folderumes_to_output_folders(self, group_folders):\n",
    "        current_folder = 0\n",
    "        for folder in self.__dataset_folders:\n",
    "            num_folder_groups = int(len(glob(folder + '/*')) / self.__group_size)\n",
    "            files_in_folder = sorted(glob(folder + '/*'))\n",
    "            \n",
    "            start = 0\n",
    "            for i in range(num_folder_groups):\n",
    "                self.move_files_to_output_dir(files_in_folder[start : start + self.__group_size], group_folders[current_folder])\n",
    "                start = start + self.__group_size\n",
    "                current_folder = current_folder + 1\n",
    "\n",
    "    # Moves chunk of files to the specified folder\n",
    "    def move_files_to_output_dir(self, files, group_folder):\n",
    "        group_size = self.get_group_size()\n",
    "        for i, file in enumerate(files):\n",
    "            if i > self.__group_size:\n",
    "                break\n",
    "            shutil.move(file, group_folder)\n",
    "\n",
    "    # Converts dicom files to nifti\n",
    "    def dicom2nifti(self, nitfi_ouput_dir):\n",
    "        for dicom_group in glob(self.__output_dir + '/*'):\n",
    "            dicom_group_name = os.path.basename(os.path.normpath(dicom_group))\n",
    "            dicom2nifti.dicom_series_to_nifti(dicom_group, os.path.join(nitfi_ouput_dir, dicom_group_name + '.nii.gz'))\n",
    "\n",
    "    # Removes nifti file with dimension less than 3 (background, foreground, mask)\n",
    "    def remove_empty_niftis(self, nitfi_ouput_dir):\n",
    "        for file in glob(nitfi_ouput_dir + '/*'):\n",
    "            nifti_file = nib.load(file)\n",
    "            fdata = nifti_file.get_fdata()\n",
    "            np_unique = np.unique(fdata)\n",
    "            if len(np_unique) < 3:\n",
    "                print(f\"Deleting empty nifty file :: {file}\")\n",
    "                os.remove(file)\n",
    "\n",
    "        "
   ]
  },
  {
   "cell_type": "code",
   "execution_count": null,
   "id": "d3c0863e-ffc7-4cfb-9cbd-f34c7b059646",
   "metadata": {},
   "outputs": [],
   "source": [
    "img_seg_utils = ImageSementationUtils(input_dir, output_dir)\n",
    "group_size = img_seg_utils.get_group_size()\n",
    "print(group_size)\n",
    "img_seg_utils.prepare_dicom()\n"
   ]
  },
  {
   "cell_type": "code",
   "execution_count": 189,
   "id": "8ce2f100-d7c8-4b69-ad99-3794374c6c3c",
   "metadata": {},
   "outputs": [],
   "source": [
    "img_seg_utils = ImageSementationUtils(input_dir, output_dir)\n",
    "img_seg_utils.dicom2nifti(nifti_output_dir)"
   ]
  },
  {
   "cell_type": "code",
   "execution_count": null,
   "id": "41573b85-9e93-47f8-891f-b41c339cbd35",
   "metadata": {
    "scrolled": true
   },
   "outputs": [],
   "source": [
    "img_seg_utils = ImageSementationUtils(input_dir, output_dir)\n",
    "img_seg_utils.remove_empty_niftis(nifti_output_dir)"
   ]
  }
 ],
 "metadata": {
  "kernelspec": {
   "display_name": "Python 3 (ipykernel)",
   "language": "python",
   "name": "python3"
  },
  "language_info": {
   "codemirror_mode": {
    "name": "ipython",
    "version": 3
   },
   "file_extension": ".py",
   "mimetype": "text/x-python",
   "name": "python",
   "nbconvert_exporter": "python",
   "pygments_lexer": "ipython3",
   "version": "3.10.14"
  }
 },
 "nbformat": 4,
 "nbformat_minor": 5
}
