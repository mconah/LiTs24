{
 "cells": [
  {
   "cell_type": "code",
   "execution_count": null,
   "id": "a62bca50-39ae-4db9-aa59-a02ddfa2d218",
   "metadata": {},
   "outputs": [],
   "source": [
    "import torch\n",
    "import torchvision\n",
    "from torch import nn\n",
    "from torch.nn.functional import relu"
   ]
  },
  {
   "cell_type": "code",
   "execution_count": 3,
   "id": "a853d22d-2c04-4a60-a2af-cb131ba39055",
   "metadata": {},
   "outputs": [
    {
     "ename": "NameError",
     "evalue": "name 'torch' is not defined",
     "output_type": "error",
     "traceback": [
      "\u001b[1;31m---------------------------------------------------------------------------\u001b[0m",
      "\u001b[1;31mNameError\u001b[0m                                 Traceback (most recent call last)",
      "Cell \u001b[1;32mIn[3], line 1\u001b[0m\n\u001b[1;32m----> 1\u001b[0m device \u001b[38;5;241m=\u001b[39m \u001b[38;5;124m\"\u001b[39m\u001b[38;5;124mcuda\u001b[39m\u001b[38;5;124m\"\u001b[39m \u001b[38;5;28;01mif\u001b[39;00m \u001b[43mtorch\u001b[49m\u001b[38;5;241m.\u001b[39mcuda\u001b[38;5;241m.\u001b[39mis_available() \u001b[38;5;28;01melse\u001b[39;00m \u001b[38;5;124m\"\u001b[39m\u001b[38;5;124mcpu\u001b[39m\u001b[38;5;124m\"\u001b[39m\n\u001b[0;32m      2\u001b[0m torch\u001b[38;5;241m.\u001b[39mset_default_device(device)\n",
      "\u001b[1;31mNameError\u001b[0m: name 'torch' is not defined"
     ]
    }
   ],
   "source": [
    "device = \"cuda\" if torch.cuda.is_available() else \"cpu\"\n",
    "torch.set_default_device(device)"
   ]
  },
  {
   "cell_type": "markdown",
   "id": "d4af8813-0e24-47d3-bf2b-a9433b1ae102",
   "metadata": {},
   "source": [
    "# Prepare the data,\n",
    "### Data Preparation\n",
    "1. Housefiel windowing\n",
    "2. Histogram activation\n",
    "3. Data Augumentation\n",
    "4. Normalization"
   ]
  },
  {
   "cell_type": "markdown",
   "id": "19b09006-072b-4663-9da9-334c76cbc8a7",
   "metadata": {},
   "source": [
    "### Building of model"
   ]
  },
  {
   "cell_type": "code",
   "execution_count": 1,
   "id": "12df6769-8840-43f9-8964-802ae4538310",
   "metadata": {},
   "outputs": [
    {
     "ename": "NameError",
     "evalue": "name 'nn' is not defined",
     "output_type": "error",
     "traceback": [
      "\u001b[1;31m---------------------------------------------------------------------------\u001b[0m",
      "\u001b[1;31mNameError\u001b[0m                                 Traceback (most recent call last)",
      "Cell \u001b[1;32mIn[1], line 1\u001b[0m\n\u001b[1;32m----> 1\u001b[0m \u001b[38;5;28;01mclass\u001b[39;00m \u001b[38;5;21;01mlistUnet\u001b[39;00m(\u001b[43mnn\u001b[49m\u001b[38;5;241m.\u001b[39mModule):\n\u001b[0;32m      2\u001b[0m     \u001b[38;5;28;01mdef\u001b[39;00m \u001b[38;5;21m__init__\u001b[39m(\u001b[38;5;28mself\u001b[39m, n_class):\n\u001b[0;32m      3\u001b[0m         \u001b[38;5;28msuper\u001b[39m()\u001b[38;5;241m.\u001b[39m\u001b[38;5;21m__init__\u001b[39m()\n",
      "\u001b[1;31mNameError\u001b[0m: name 'nn' is not defined"
     ]
    }
   ],
   "source": [
    "class listUnet(nn.Module):\n",
    "    def __init__(self, n_class):\n",
    "        super().__init__()\n",
    "\n",
    "        # Encoder\n",
    "        # input: 572X572X3\n",
    "        self.encoder11 = nn.Conv2d(3, 64, kernel_size= 3, padding= 1)\n",
    "        self.encoder12 = nn.Conv2d(64, 64, kernel_size= 3, padding= 1)\n",
    "        self.pool1 = nn.MaxPool2d(kernel_size= 2, stride= 2)\n",
    "\n",
    "        self.encoder21 = nn.Conv2d(64, 128, kernel_size= 3, padding= 1)\n",
    "        self.encoder22 = nn.Conv2d(128, 128, kernel_size= 2, padding= 1)\n",
    "        self.pool2 = nn.MaxPool2d(kernel_size= 2, stride= 2)\n",
    "\n",
    "        self.encoder31 = nn.Conv2d(128, 256, kernel_size= 3, padding= 1)\n",
    "        self.encoder32 = nn.Conv2d(256, 256, kernel_size= 3, padding= 1)\n",
    "        self.pool3 = nn.MaxPool2d(kernel_size= 3, stride= 2)\n",
    "\n",
    "        self.encoder41 = nn.Conv2d(256, 512, kernel_size= 3, padding= 1)\n",
    "        self.encoder42 = nn.Conv2d(512, 512, kernel_size= 3, padding= 1)\n",
    "        self.pool4 = nn.MaxPool2d(dernel_size= 2, stride= 2)\n",
    "\n",
    "        self.encoder51 = nn.Conv2d(512, 1024, kernel_size= 3, padding= 1)\n",
    "        self.encoder52 = nn.Conv2d(1024, kernel_size= 3, padding= 1)\n",
    "\n",
    "        # Decoder\n",
    "        self.upconv1 = nn.ConvTranspose2d(1024, 512, kernel_size= 2, stride= 2)\n",
    "        self.decoder11 = nn.Conv2d(1024, 512, kernel_size= 3, padding= 1)\n",
    "        self.decoder12 = nn.Conv2d(512, 512, kernel_size= 3, padding= 1)\n",
    "\n",
    "        self.upconv2 = nn.ConvTranspose2d(512, 256, kernel_size= 2, stride= 2)\n",
    "        self.decoder21 = nn.Conv2d(512, 256, kernel_size= 3, padding= 1)\n",
    "        self.decoder22 = nn.Conv2d(256, 256, kernel_size= 3, padding= 1)\n",
    "\n",
    "        self.upconv3 = nn.ConvTranspose2d(256, 128, kernel_size= 2, stride= 2)\n",
    "        self.decoder31 = nn.Conv2d(256, 128, kernel_size= 2, padding= 1)\n",
    "        self.decode32 = nn.Conv2d(128, 128, kernel_size= 2, padding= 1)\n",
    "\n",
    "        self.upconv4 = nn.ConvTranspose2d(128, 64, kernel_size= 2, stride= 2)\n",
    "        self.decoder41 = nn.Conv2d(128, 64, kernel_size= 2, padding= 1)\n",
    "        self.decoder42 = nn.Conv2d(64, 64, kernel_size= 2, padding= 1)\n",
    "\n",
    "        # Output layer\n",
    "        self.outconv = nn.Conv2d(64, n_class, kernel_size= 1)\n",
    "\n",
    "    def forward(self, x):\n",
    "        # Encoder\n",
    "        x_encoder11 = nn.ReLU(self.encoder11(x))\n",
    "        x_encoder12 = nn.ReLU(self.encoder12(x_encoder11))\n",
    "        x_pool1 = self.pool1(xencoder12)\n",
    "\n",
    "        x_encoder21 = nn.ReLU(self.encoder_21(x_pool1))\n",
    "        x_encoder22 = nn.ReLU(self.encoder_22(x_encoder21))\n",
    "        x_pool2 = self.pool2(x_encoder22)\n",
    "\n",
    "        x_encoder31 = nn.ReLu(self.encoder31(x_pool2))\n",
    "        x_encoder32 = nn.ReLU(self.encoder32(x_encoder31))\n",
    "        x_pool3 = self.pool3(x_encoder32)\n",
    "\n",
    "        x_encoder41 = nn.ReLU(self.encoder41(x_pool3))\n",
    "        x_encoder42 = nn.ReLU(self.encoder42(x_encoder41))\n",
    "        x_pool4 = self.pool4(x_encoder42)\n",
    "\n",
    "        x_encoder51 = nn.ReLU(self.encoder51(x_pool4))\n",
    "        x_encoder52 = nn.ReLU(self.encoder52(x_encoder51))\n",
    "\n",
    "        # Decoder\n",
    "\n",
    "        xu1 = self.upconv(x_encoder52)\n",
    "        xu11 = torch.cat([xu1, x_encoder42], dim= 1)\n",
    "        x_decoder11 = nn.ReLU(self.decoder11(xu11))\n",
    "        x_decoder12 = nn.ReLU(self.decoder12(x_decoder11))\n",
    "\n",
    "        xu2 = self.upconv2(x_decoder12)\n",
    "        xu22 = torch.cat([xu2, x_encoder32], dim= 1)\n",
    "        x_decoder21 = nn.ReLU(self.decoder21(xu22))\n",
    "        x_decoder22 = nn.ReLU(self.decoder22(x_decoder21))\n",
    "\n",
    "        xu3 = self.upconv2(x_decoder22)\n",
    "        xu33 = torch.cat([xu3, x_encoder22], dim= 1)\n",
    "        x_decoder31 = nn.ReLU(self.decoder31(xu33))\n",
    "        x_decoder32 = nn.ReLU(self.decoder32(x_decoder31))\n",
    "\n",
    "        xu4 = self.upconv4(x_decoder32)\n",
    "        xu44 = torch.cat([xu4, x_encoder12], dim = 1)\n",
    "        x_decoder41 = nn.ReLU(self.decoder41(xu44))\n",
    "        x_decoder42 = nn.ReLU(self.decoder42(x_decoder41))\n",
    "\n",
    "        # Output layer\n",
    "        out = self.outconv(x_decoder42)\n",
    "\n",
    "        return out"
   ]
  },
  {
   "cell_type": "code",
   "execution_count": 31,
   "id": "d2c6f102-38b4-4e26-b7de-ddeee24eb9dc",
   "metadata": {},
   "outputs": [],
   "source": [
    "\n"
   ]
  },
  {
   "cell_type": "code",
   "execution_count": null,
   "id": "ea2d4be8-ede2-4374-8656-cad1b8783d26",
   "metadata": {},
   "outputs": [],
   "source": []
  },
  {
   "cell_type": "code",
   "execution_count": null,
   "id": "b1dff2d7-bd7c-42ce-bc73-5ff61fd9dadd",
   "metadata": {},
   "outputs": [],
   "source": []
  }
 ],
 "metadata": {
  "kernelspec": {
   "display_name": "Python 3 (ipykernel)",
   "language": "python",
   "name": "python3"
  },
  "language_info": {
   "codemirror_mode": {
    "name": "ipython",
    "version": 3
   },
   "file_extension": ".py",
   "mimetype": "text/x-python",
   "name": "python",
   "nbconvert_exporter": "python",
   "pygments_lexer": "ipython3",
   "version": "3.10.11"
  }
 },
 "nbformat": 4,
 "nbformat_minor": 5
}
